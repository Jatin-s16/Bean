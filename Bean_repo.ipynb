{
 "cells": [
  {
   "cell_type": "code",
   "execution_count": 1,
   "metadata": {},
   "outputs": [
    {
     "name": "stdout",
     "output_type": "stream",
     "text": [
      "Requirement already satisfied: ucimlrepo in /opt/anaconda3/lib/python3.11/site-packages (0.0.7)\n",
      "Requirement already satisfied: pandas>=1.0.0 in /opt/anaconda3/lib/python3.11/site-packages (from ucimlrepo) (2.1.4)\n",
      "Requirement already satisfied: certifi>=2020.12.5 in /opt/anaconda3/lib/python3.11/site-packages (from ucimlrepo) (2024.2.2)\n",
      "Requirement already satisfied: numpy<2,>=1.23.2 in /opt/anaconda3/lib/python3.11/site-packages (from pandas>=1.0.0->ucimlrepo) (1.26.4)\n",
      "Requirement already satisfied: python-dateutil>=2.8.2 in /opt/anaconda3/lib/python3.11/site-packages (from pandas>=1.0.0->ucimlrepo) (2.8.2)\n",
      "Requirement already satisfied: pytz>=2020.1 in /opt/anaconda3/lib/python3.11/site-packages (from pandas>=1.0.0->ucimlrepo) (2023.3.post1)\n",
      "Requirement already satisfied: tzdata>=2022.1 in /opt/anaconda3/lib/python3.11/site-packages (from pandas>=1.0.0->ucimlrepo) (2023.3)\n",
      "Requirement already satisfied: six>=1.5 in /opt/anaconda3/lib/python3.11/site-packages (from python-dateutil>=2.8.2->pandas>=1.0.0->ucimlrepo) (1.16.0)\n",
      "Note: you may need to restart the kernel to use updated packages.\n"
     ]
    }
   ],
   "source": [
    "pip install ucimlrepo"
   ]
  },
  {
   "cell_type": "code",
   "execution_count": 6,
   "metadata": {},
   "outputs": [
    {
     "name": "stdout",
     "output_type": "stream",
     "text": [
      "{'uci_id': 602, 'name': 'Dry Bean', 'repository_url': 'https://archive.ics.uci.edu/dataset/602/dry+bean+dataset', 'data_url': 'https://archive.ics.uci.edu/static/public/602/data.csv', 'abstract': 'Images of 13,611 grains of 7 different registered dry beans were taken with a high-resolution camera. A total of 16 features; 12 dimensions and 4 shape forms, were obtained from the grains.', 'area': 'Biology', 'tasks': ['Classification'], 'characteristics': ['Multivariate'], 'num_instances': 13611, 'num_features': 16, 'feature_types': ['Integer', 'Real'], 'demographics': [], 'target_col': ['Class'], 'index_col': None, 'has_missing_values': 'no', 'missing_values_symbol': None, 'year_of_dataset_creation': 2020, 'last_updated': 'Thu Mar 28 2024', 'dataset_doi': '10.24432/C50S4B', 'creators': [], 'intro_paper': {'ID': 244, 'type': 'NATIVE', 'title': 'Multiclass classification of dry beans using computer vision and machine learning techniques', 'authors': 'M. Koklu, Ilker Ali Özkan', 'venue': 'Computers and Electronics in Agriculture', 'year': 2020, 'journal': None, 'DOI': '10.1016/j.compag.2020.105507', 'URL': 'https://www.semanticscholar.org/paper/e84c31138f2f261d15517d6b6bb8922c3fe597a1', 'sha': None, 'corpus': None, 'arxiv': None, 'mag': None, 'acl': None, 'pmid': None, 'pmcid': None}, 'additional_info': {'summary': 'Seven different types of dry beans were used in this research, taking into account the features such as form, shape, type, and structure by the market situation. A computer vision system was developed to distinguish seven different registered varieties of dry beans with similar features in order to obtain uniform seed classification. For the classification model, images of 13,611 grains of 7 different registered dry beans were taken with a high-resolution camera. Bean images obtained by computer vision system were subjected to segmentation and feature extraction stages, and a total of 16 features; 12 dimensions and 4 shape forms, were obtained from the grains.', 'purpose': None, 'funded_by': None, 'instances_represent': None, 'recommended_data_splits': None, 'sensitive_data': None, 'preprocessing_description': None, 'variable_info': '1.) Area (A): The area of a bean zone and the number of pixels within its boundaries.\\r\\n2.) Perimeter (P): Bean circumference is defined as the length of its border.\\r\\n3.) Major axis length (L): The distance between the ends of the longest line that can be drawn from a bean.\\r\\n4.) Minor axis length (l): The longest line that can be drawn from the bean while standing perpendicular to the main axis.\\r\\n5.) Aspect ratio (K): Defines the relationship between L and l.\\r\\n6.) Eccentricity (Ec): Eccentricity of the ellipse having the same moments as the region.\\r\\n7.) Convex area (C): Number of pixels in the smallest convex polygon that can contain the area of a bean seed.\\r\\n8.) Equivalent diameter (Ed): The diameter of a circle having the same area as a bean seed area.\\r\\n9.) Extent (Ex): The ratio of the pixels in the bounding box to the bean area.\\r\\n10.)Solidity (S): Also known as convexity. The ratio of the pixels in the convex shell to those found in beans.\\r\\n11.)Roundness (R): Calculated with the following formula: (4piA)/(P^2)\\r\\n12.)Compactness (CO): Measures the roundness of an object: Ed/L\\r\\n13.)ShapeFactor1 (SF1)\\r\\n14.)ShapeFactor2 (SF2)\\r\\n15.)ShapeFactor3 (SF3)\\r\\n16.)ShapeFactor4 (SF4)\\r\\n17.)Class (Seker, Barbunya, Bombay, Cali, Dermosan, Horoz and Sira)\\r\\n', 'citation': None}}\n",
      "               name     role         type demographic  \\\n",
      "0              Area  Feature      Integer        None   \n",
      "1         Perimeter  Feature   Continuous        None   \n",
      "2   MajorAxisLength  Feature   Continuous        None   \n",
      "3   MinorAxisLength  Feature   Continuous        None   \n",
      "4       AspectRatio  Feature   Continuous        None   \n",
      "5      Eccentricity  Feature   Continuous        None   \n",
      "6        ConvexArea  Feature      Integer        None   \n",
      "7     EquivDiameter  Feature   Continuous        None   \n",
      "8            Extent  Feature   Continuous        None   \n",
      "9          Solidity  Feature   Continuous        None   \n",
      "10        Roundness  Feature   Continuous        None   \n",
      "11      Compactness  Feature   Continuous        None   \n",
      "12     ShapeFactor1  Feature   Continuous        None   \n",
      "13     ShapeFactor2  Feature   Continuous        None   \n",
      "14     ShapeFactor3  Feature   Continuous        None   \n",
      "15     ShapeFactor4  Feature   Continuous        None   \n",
      "16            Class   Target  Categorical        None   \n",
      "\n",
      "                                          description   units missing_values  \n",
      "0   The area of a bean zone and the number of pixe...  pixels             no  \n",
      "1   Bean circumference is defined as the length of...    None             no  \n",
      "2   The distance between the ends of the longest l...    None             no  \n",
      "3   The longest line that can be drawn from the be...    None             no  \n",
      "4   Defines the relationship between MajorAxisLeng...    None             no  \n",
      "5   Eccentricity of the ellipse having the same mo...    None             no  \n",
      "6   Number of pixels in the smallest convex polygo...    None             no  \n",
      "7   Equivalent diameter: The diameter of a circle ...    None             no  \n",
      "8   The ratio of the pixels in the bounding box to...    None             no  \n",
      "9   Also known as convexity. The ratio of the pixe...    None             no  \n",
      "10  Calculated with the following formula: (4piA)/...    None             no  \n",
      "11                Measures the roundness of an object    Ed/L             no  \n",
      "12                                               None    None             no  \n",
      "13                                               None    None             no  \n",
      "14                                               None    None             no  \n",
      "15                                               None    None             no  \n",
      "16  (Seker, Barbunya, Bombay, Cali, Dermosan, Horo...    None             no  \n"
     ]
    }
   ],
   "source": [
    "import pandas as pd\n",
    "import numpy as np\n",
    "\n",
    "from ucimlrepo import fetch_ucirepo \n",
    "  \n",
    "# fetch dataset \n",
    "dry_bean = fetch_ucirepo(id=602) \n",
    "  \n",
    "# data (as pandas dataframes) \n",
    "X = dry_bean.data.features \n",
    "Y = pd.Series(dry_bean.data.targets.squeeze(), name=\"Class\")\n",
    "  \n",
    "# metadata \n",
    "print(dry_bean.metadata) \n",
    "  \n",
    "# variable information \n",
    "print(dry_bean.variables) \n"
   ]
  },
  {
   "cell_type": "code",
   "execution_count": 7,
   "metadata": {},
   "outputs": [
    {
     "name": "stdout",
     "output_type": "stream",
     "text": [
      "        Area  Perimeter  MajorAxisLength  MinorAxisLength  AspectRatio  \\\n",
      "0      28395    610.291       208.178117       173.888747     1.197191   \n",
      "1      28734    638.018       200.524796       182.734419     1.097356   \n",
      "2      29380    624.110       212.826130       175.931143     1.209713   \n",
      "3      30008    645.884       210.557999       182.516516     1.153638   \n",
      "4      30140    620.134       201.847882       190.279279     1.060798   \n",
      "...      ...        ...              ...              ...          ...   \n",
      "13606  42097    759.696       288.721612       185.944705     1.552728   \n",
      "13607  42101    757.499       281.576392       190.713136     1.476439   \n",
      "13608  42139    759.321       281.539928       191.187979     1.472582   \n",
      "13609  42147    763.779       283.382636       190.275731     1.489326   \n",
      "13610  42159    772.237       295.142741       182.204716     1.619841   \n",
      "\n",
      "       Eccentricity  ConvexArea  EquivDiameter    Extent  Solidity  Roundness  \\\n",
      "0          0.549812       28715     190.141097  0.763923  0.988856   0.958027   \n",
      "1          0.411785       29172     191.272751  0.783968  0.984986   0.887034   \n",
      "2          0.562727       29690     193.410904  0.778113  0.989559   0.947849   \n",
      "3          0.498616       30724     195.467062  0.782681  0.976696   0.903936   \n",
      "4          0.333680       30417     195.896503  0.773098  0.990893   0.984877   \n",
      "...             ...         ...            ...       ...       ...        ...   \n",
      "13606      0.765002       42508     231.515799  0.714574  0.990331   0.916603   \n",
      "13607      0.735702       42494     231.526798  0.799943  0.990752   0.922015   \n",
      "13608      0.734065       42569     231.631261  0.729932  0.989899   0.918424   \n",
      "13609      0.741055       42667     231.653247  0.705389  0.987813   0.907906   \n",
      "13610      0.786693       42600     231.686223  0.788962  0.989648   0.888380   \n",
      "\n",
      "       Compactness  ShapeFactor1  ShapeFactor2  ShapeFactor3  ShapeFactor4  \n",
      "0         0.913358      0.007332      0.003147      0.834222      0.998724  \n",
      "1         0.953861      0.006979      0.003564      0.909851      0.998430  \n",
      "2         0.908774      0.007244      0.003048      0.825871      0.999066  \n",
      "3         0.928329      0.007017      0.003215      0.861794      0.994199  \n",
      "4         0.970516      0.006697      0.003665      0.941900      0.999166  \n",
      "...            ...           ...           ...           ...           ...  \n",
      "13606     0.801865      0.006858      0.001749      0.642988      0.998385  \n",
      "13607     0.822252      0.006688      0.001886      0.676099      0.998219  \n",
      "13608     0.822730      0.006681      0.001888      0.676884      0.996767  \n",
      "13609     0.817457      0.006724      0.001852      0.668237      0.995222  \n",
      "13610     0.784997      0.007001      0.001640      0.616221      0.998180  \n",
      "\n",
      "[13611 rows x 16 columns]\n",
      "0           SEKER\n",
      "1           SEKER\n",
      "2           SEKER\n",
      "3           SEKER\n",
      "4           SEKER\n",
      "           ...   \n",
      "13606    DERMASON\n",
      "13607    DERMASON\n",
      "13608    DERMASON\n",
      "13609    DERMASON\n",
      "13610    DERMASON\n",
      "Name: Class, Length: 13611, dtype: object\n"
     ]
    }
   ],
   "source": [
    "print(X)\n",
    "print(Y)"
   ]
  },
  {
   "cell_type": "code",
   "execution_count": 8,
   "metadata": {},
   "outputs": [
    {
     "name": "stdout",
     "output_type": "stream",
     "text": [
      "<class 'pandas.core.frame.DataFrame'>\n",
      "RangeIndex: 13611 entries, 0 to 13610\n",
      "Data columns (total 16 columns):\n",
      " #   Column           Non-Null Count  Dtype  \n",
      "---  ------           --------------  -----  \n",
      " 0   Area             13611 non-null  int64  \n",
      " 1   Perimeter        13611 non-null  float64\n",
      " 2   MajorAxisLength  13611 non-null  float64\n",
      " 3   MinorAxisLength  13611 non-null  float64\n",
      " 4   AspectRatio      13611 non-null  float64\n",
      " 5   Eccentricity     13611 non-null  float64\n",
      " 6   ConvexArea       13611 non-null  int64  \n",
      " 7   EquivDiameter    13611 non-null  float64\n",
      " 8   Extent           13611 non-null  float64\n",
      " 9   Solidity         13611 non-null  float64\n",
      " 10  Roundness        13611 non-null  float64\n",
      " 11  Compactness      13611 non-null  float64\n",
      " 12  ShapeFactor1     13611 non-null  float64\n",
      " 13  ShapeFactor2     13611 non-null  float64\n",
      " 14  ShapeFactor3     13611 non-null  float64\n",
      " 15  ShapeFactor4     13611 non-null  float64\n",
      "dtypes: float64(14), int64(2)\n",
      "memory usage: 1.7 MB\n",
      "None\n",
      "                Area     Perimeter  MajorAxisLength  MinorAxisLength  \\\n",
      "count   13611.000000  13611.000000     13611.000000     13611.000000   \n",
      "mean    53048.284549    855.283459       320.141867       202.270714   \n",
      "std     29324.095717    214.289696        85.694186        44.970091   \n",
      "min     20420.000000    524.736000       183.601165       122.512653   \n",
      "25%     36328.000000    703.523500       253.303633       175.848170   \n",
      "50%     44652.000000    794.941000       296.883367       192.431733   \n",
      "75%     61332.000000    977.213000       376.495012       217.031741   \n",
      "max    254616.000000   1985.370000       738.860154       460.198497   \n",
      "\n",
      "        AspectRatio  Eccentricity     ConvexArea  EquivDiameter        Extent  \\\n",
      "count  13611.000000  13611.000000   13611.000000   13611.000000  13611.000000   \n",
      "mean       1.583242      0.750895   53768.200206     253.064220      0.749733   \n",
      "std        0.246678      0.092002   29774.915817      59.177120      0.049086   \n",
      "min        1.024868      0.218951   20684.000000     161.243764      0.555315   \n",
      "25%        1.432307      0.715928   36714.500000     215.068003      0.718634   \n",
      "50%        1.551124      0.764441   45178.000000     238.438026      0.759859   \n",
      "75%        1.707109      0.810466   62294.000000     279.446467      0.786851   \n",
      "max        2.430306      0.911423  263261.000000     569.374358      0.866195   \n",
      "\n",
      "           Solidity     Roundness   Compactness  ShapeFactor1  ShapeFactor2  \\\n",
      "count  13611.000000  13611.000000  13611.000000  13611.000000  13611.000000   \n",
      "mean       0.987143      0.873282      0.799864      0.006564      0.001716   \n",
      "std        0.004660      0.059520      0.061713      0.001128      0.000596   \n",
      "min        0.919246      0.489618      0.640577      0.002778      0.000564   \n",
      "25%        0.985670      0.832096      0.762469      0.005900      0.001154   \n",
      "50%        0.988283      0.883157      0.801277      0.006645      0.001694   \n",
      "75%        0.990013      0.916869      0.834270      0.007271      0.002170   \n",
      "max        0.994677      0.990685      0.987303      0.010451      0.003665   \n",
      "\n",
      "       ShapeFactor3  ShapeFactor4  \n",
      "count  13611.000000  13611.000000  \n",
      "mean       0.643590      0.995063  \n",
      "std        0.098996      0.004366  \n",
      "min        0.410339      0.947687  \n",
      "25%        0.581359      0.993703  \n",
      "50%        0.642044      0.996386  \n",
      "75%        0.696006      0.997883  \n",
      "max        0.974767      0.999733  \n"
     ]
    }
   ],
   "source": [
    "print(X.info())\n",
    "print(X.describe())"
   ]
  },
  {
   "cell_type": "code",
   "execution_count": 12,
   "metadata": {},
   "outputs": [
    {
     "data": {
      "image/png": "[encoded data removed]",
      "text/plain": [
       "<Figure size 1000x600 with 1 Axes>"
      ]
     },
     "metadata": {},
     "output_type": "display_data"
    }
   ],
   "source": [
    "import matplotlib.pyplot as plt\n",
    "import seaborn as sns\n",
    "plt.figure(figsize=(10, 6))\n",
    "sns.countplot(x=Y, order=Y.value_counts().index)\n",
    "plt.title(\"Class Distribution\")\n",
    "plt.xlabel(\"Bean Class\")\n",
    "plt.ylabel(\"Frequency\")\n",
    "plt.show()"
   ]
  }
 ],
 "metadata": {
  "kernelspec": {
   "display_name": "base",
   "language": "python",
   "name": "python3"
  },
  "language_info": {
   "codemirror_mode": {
    "name": "ipython",
    "version": 3
   },
   "file_extension": ".py",
   "mimetype": "text/x-python",
   "name": "python",
   "nbconvert_exporter": "python",
   "pygments_lexer": "ipython3",
   "version": "3.11.7"
  }
 },
 "nbformat": 4,
 "nbformat_minor": 2
}
